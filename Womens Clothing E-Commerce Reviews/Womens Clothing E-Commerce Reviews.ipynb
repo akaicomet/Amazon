{
  "cells": [
    {
      "metadata": {
        "_uuid": "8f2839f25d086af736a60e9eeb907d3b93b6e0e5",
        "_cell_guid": "b1076dfc-b9ad-4769-8c92-a6c4dae69d19",
        "trusted": true
      },
      "cell_type": "code",
      "source": "# This Python 3 environment comes with many helpful analytics libraries installed\n# It is defined by the kaggle/python docker image: https://github.com/kaggle/docker-python\n# For example, here's several helpful packages to load in \n\nimport numpy as np # linear algebra\nimport pandas as pd # data processing, CSV file I/O (e.g. pd.read_csv)\nfrom nltk.sentiment import SentimentAnalyzer\nfrom nltk.sentiment.vader import SentimentIntensityAnalyzer\n\nimport nltk\nnltk.download('vader_lexicon')\n\n# Input data files are available in the \"../input/\" directory.\n# For example, running this (by clicking run or pressing Shift+Enter) will list the files in the input directory\n\nimport os\nprint(os.listdir(\"../input\"))\n\n# Any results you write to the current directory are saved as output.",
      "execution_count": 119,
      "outputs": [
        {
          "output_type": "stream",
          "text": "[nltk_data] Error loading vader_lexicon: <urlopen error [Errno -3]\n[nltk_data]     Temporary failure in name resolution>\n['Womens Clothing E-Commerce Reviews.csv']\n",
          "name": "stdout"
        }
      ]
    },
    {
      "metadata": {
        "_cell_guid": "79c7e3d0-c299-4dcb-8224-4455121ee9b0",
        "_uuid": "d629ff2d2480ee46fbb7e2d37f6b5fab8052498a",
        "trusted": true
      },
      "cell_type": "code",
      "source": "#Load all data\ndf= pd.read_csv(\"../input/Womens Clothing E-Commerce Reviews.csv\" )\ndf.head()",
      "execution_count": 120,
      "outputs": [
        {
          "output_type": "execute_result",
          "execution_count": 120,
          "data": {
            "text/plain": "   Unnamed: 0  Clothing ID    ...      Department Name Class Name\n0           0          767    ...             Intimate  Intimates\n1           1         1080    ...              Dresses    Dresses\n2           2         1077    ...              Dresses    Dresses\n3           3         1049    ...              Bottoms      Pants\n4           4          847    ...                 Tops    Blouses\n\n[5 rows x 11 columns]",
            "text/html": "<div>\n<style scoped>\n    .dataframe tbody tr th:only-of-type {\n        vertical-align: middle;\n    }\n\n    .dataframe tbody tr th {\n        vertical-align: top;\n    }\n\n    .dataframe thead th {\n        text-align: right;\n    }\n</style>\n<table border=\"1\" class=\"dataframe\">\n  <thead>\n    <tr style=\"text-align: right;\">\n      <th></th>\n      <th>Unnamed: 0</th>\n      <th>Clothing ID</th>\n      <th>Age</th>\n      <th>Title</th>\n      <th>Review Text</th>\n      <th>Rating</th>\n      <th>Recommended IND</th>\n      <th>Positive Feedback Count</th>\n      <th>Division Name</th>\n      <th>Department Name</th>\n      <th>Class Name</th>\n    </tr>\n  </thead>\n  <tbody>\n    <tr>\n      <th>0</th>\n      <td>0</td>\n      <td>767</td>\n      <td>33</td>\n      <td>NaN</td>\n      <td>Absolutely wonderful - silky and sexy and comf...</td>\n      <td>4</td>\n      <td>1</td>\n      <td>0</td>\n      <td>Initmates</td>\n      <td>Intimate</td>\n      <td>Intimates</td>\n    </tr>\n    <tr>\n      <th>1</th>\n      <td>1</td>\n      <td>1080</td>\n      <td>34</td>\n      <td>NaN</td>\n      <td>Love this dress!  it's sooo pretty.  i happene...</td>\n      <td>5</td>\n      <td>1</td>\n      <td>4</td>\n      <td>General</td>\n      <td>Dresses</td>\n      <td>Dresses</td>\n    </tr>\n    <tr>\n      <th>2</th>\n      <td>2</td>\n      <td>1077</td>\n      <td>60</td>\n      <td>Some major design flaws</td>\n      <td>I had such high hopes for this dress and reall...</td>\n      <td>3</td>\n      <td>0</td>\n      <td>0</td>\n      <td>General</td>\n      <td>Dresses</td>\n      <td>Dresses</td>\n    </tr>\n    <tr>\n      <th>3</th>\n      <td>3</td>\n      <td>1049</td>\n      <td>50</td>\n      <td>My favorite buy!</td>\n      <td>I love, love, love this jumpsuit. it's fun, fl...</td>\n      <td>5</td>\n      <td>1</td>\n      <td>0</td>\n      <td>General Petite</td>\n      <td>Bottoms</td>\n      <td>Pants</td>\n    </tr>\n    <tr>\n      <th>4</th>\n      <td>4</td>\n      <td>847</td>\n      <td>47</td>\n      <td>Flattering shirt</td>\n      <td>This shirt is very flattering to all due to th...</td>\n      <td>5</td>\n      <td>1</td>\n      <td>6</td>\n      <td>General</td>\n      <td>Tops</td>\n      <td>Blouses</td>\n    </tr>\n  </tbody>\n</table>\n</div>"
          },
          "metadata": {}
        }
      ]
    },
    {
      "metadata": {
        "trusted": true,
        "_uuid": "afef0a63487380817c741c3d98ba97d0a77d83d7"
      },
      "cell_type": "code",
      "source": "#Exclusion Word & Symbol List  \nstopwords = nltk.corpus.stopwords.words('english')\nfdist1 = None\nsymbols = [\"'\", '\"', '`', '.', ',', '-', '!', '?', ':', ';', '(', ')','...',\"''\",'&','``','--','..']\nexclude = [\"'s\",\"'m\",\"small\\\\r\\\\\",\"\\\\r\\\\n\\\\r\\\\\"]",
      "execution_count": 121,
      "outputs": []
    },
    {
      "metadata": {
        "trusted": true,
        "_uuid": "f57f0781e38108b04de56d3d7a14118a4cb3f8af",
        "scrolled": true
      },
      "cell_type": "code",
      "source": "#Grand total % proportion cumulation score \n#Example:\n#(key word counts per single \"Review Text\" entry / all keyword counts) = Total % Proportion\ntokens = nltk.word_tokenize(df['Review Text'].to_string())\nfdist1 = nltk.FreqDist(w.lower() for w in tokens if w.lower() not in stopwords + symbols + exclude and len(w) > 1 and w.isnumeric() == False)\n\nfdist1_df =  pd.DataFrame(fdist1.most_common(), columns = ('Item','Count'))\nfdist1_df['Prop'] = fdist1_df['Count']/sum(fdist1_df['Count']) \n\ndf[\"GrandTotalProp\"] = 0\ndf['ContainWord'] = None\ntry:\n    for index, row in fdist1_df.iterrows(): \n        #print(df[\"Review Text\"].str.contains(row[0]))\n        df['ContainWord'] = df[\"Review Text\"].str.contains(row[0])\n\n        df.loc[df['ContainWord'] == True, 'GrandTotalProp'] = df.loc[df['ContainWord'] == True, 'GrandTotalProp'] + row[2]\n\n        #if index > 100: break\n        if row[1]  < 3: break\nexcept Exception as e:         \n    print(row[0])\n    print(row[1])\n    raise\n    \ndf.head()    ",
      "execution_count": 122,
      "outputs": [
        {
          "output_type": "execute_result",
          "execution_count": 122,
          "data": {
            "text/plain": "   Unnamed: 0  Clothing ID     ...      GrandTotalProp ContainWord\n0           0          767     ...            0.013793       False\n1           1         1080     ...            0.172093       False\n2           2         1077     ...            0.178479       False\n3           3         1049     ...            0.090387       False\n4           4          847     ...            0.098637       False\n\n[5 rows x 13 columns]",
            "text/html": "<div>\n<style scoped>\n    .dataframe tbody tr th:only-of-type {\n        vertical-align: middle;\n    }\n\n    .dataframe tbody tr th {\n        vertical-align: top;\n    }\n\n    .dataframe thead th {\n        text-align: right;\n    }\n</style>\n<table border=\"1\" class=\"dataframe\">\n  <thead>\n    <tr style=\"text-align: right;\">\n      <th></th>\n      <th>Unnamed: 0</th>\n      <th>Clothing ID</th>\n      <th>Age</th>\n      <th>Title</th>\n      <th>Review Text</th>\n      <th>Rating</th>\n      <th>Recommended IND</th>\n      <th>Positive Feedback Count</th>\n      <th>Division Name</th>\n      <th>Department Name</th>\n      <th>Class Name</th>\n      <th>GrandTotalProp</th>\n      <th>ContainWord</th>\n    </tr>\n  </thead>\n  <tbody>\n    <tr>\n      <th>0</th>\n      <td>0</td>\n      <td>767</td>\n      <td>33</td>\n      <td>NaN</td>\n      <td>Absolutely wonderful - silky and sexy and comf...</td>\n      <td>4</td>\n      <td>1</td>\n      <td>0</td>\n      <td>Initmates</td>\n      <td>Intimate</td>\n      <td>Intimates</td>\n      <td>0.013793</td>\n      <td>False</td>\n    </tr>\n    <tr>\n      <th>1</th>\n      <td>1</td>\n      <td>1080</td>\n      <td>34</td>\n      <td>NaN</td>\n      <td>Love this dress!  it's sooo pretty.  i happene...</td>\n      <td>5</td>\n      <td>1</td>\n      <td>4</td>\n      <td>General</td>\n      <td>Dresses</td>\n      <td>Dresses</td>\n      <td>0.172093</td>\n      <td>False</td>\n    </tr>\n    <tr>\n      <th>2</th>\n      <td>2</td>\n      <td>1077</td>\n      <td>60</td>\n      <td>Some major design flaws</td>\n      <td>I had such high hopes for this dress and reall...</td>\n      <td>3</td>\n      <td>0</td>\n      <td>0</td>\n      <td>General</td>\n      <td>Dresses</td>\n      <td>Dresses</td>\n      <td>0.178479</td>\n      <td>False</td>\n    </tr>\n    <tr>\n      <th>3</th>\n      <td>3</td>\n      <td>1049</td>\n      <td>50</td>\n      <td>My favorite buy!</td>\n      <td>I love, love, love this jumpsuit. it's fun, fl...</td>\n      <td>5</td>\n      <td>1</td>\n      <td>0</td>\n      <td>General Petite</td>\n      <td>Bottoms</td>\n      <td>Pants</td>\n      <td>0.090387</td>\n      <td>False</td>\n    </tr>\n    <tr>\n      <th>4</th>\n      <td>4</td>\n      <td>847</td>\n      <td>47</td>\n      <td>Flattering shirt</td>\n      <td>This shirt is very flattering to all due to th...</td>\n      <td>5</td>\n      <td>1</td>\n      <td>6</td>\n      <td>General</td>\n      <td>Tops</td>\n      <td>Blouses</td>\n      <td>0.098637</td>\n      <td>False</td>\n    </tr>\n  </tbody>\n</table>\n</div>"
          },
          "metadata": {}
        }
      ]
    },
    {
      "metadata": {
        "trusted": true,
        "_uuid": "584eb29705e78edab39c8f13f5023509291b50e2"
      },
      "cell_type": "code",
      "source": "ClassName = df['Class Name'].unique()\n#ClassName\n",
      "execution_count": 123,
      "outputs": []
    },
    {
      "metadata": {
        "trusted": true,
        "_uuid": "dea02651b687f1306866897174e5631dd8ed3f71"
      },
      "cell_type": "code",
      "source": "#Total % Proportion by 'Class Name'\ndf[\"TotalProp\"] = 0\ndf['ContainWord'] = None\nfor c in ClassName: \n    tokens = nltk.word_tokenize(df[df['Class Name']== c]['Review Text'].to_string())\n    fdist1 = nltk.FreqDist(w.lower() for w in tokens if w.lower() not in stopwords + symbols + exclude and len(w) > 1 and w.isnumeric() == False)\n    tmp =  pd.DataFrame(fdist1.most_common(), columns = ('Item','Count'))\n    tmp['Prop'] = tmp['Count']/sum(tmp['Count'])\n    \n    for index, row in tmp.iterrows(): \n        df.loc[df['Class Name']== c,'ContainWord'] = df[df['Class Name']== c][\"Review Text\"].str.contains(row[0])        \n        df.loc[(df['Class Name']== c) & (df['ContainWord'] == True), 'TotalProp'] = df.loc[(df['Class Name']== c) & (df['ContainWord'] == True), 'TotalProp'] + row[2]\n        \n        #if index > 10: break\n        if row[1] < 3: break    \n            \ndf.head()             \n",
      "execution_count": 124,
      "outputs": [
        {
          "output_type": "execute_result",
          "execution_count": 124,
          "data": {
            "text/plain": "   Unnamed: 0  Clothing ID    ...     ContainWord TotalProp\n0           0          767    ...           False  0.022659\n1           1         1080    ...           False  0.272147\n2           2         1077    ...           False  0.252226\n3           3         1049    ...            True  0.107672\n4           4          847    ...            True  0.105174\n\n[5 rows x 14 columns]",
            "text/html": "<div>\n<style scoped>\n    .dataframe tbody tr th:only-of-type {\n        vertical-align: middle;\n    }\n\n    .dataframe tbody tr th {\n        vertical-align: top;\n    }\n\n    .dataframe thead th {\n        text-align: right;\n    }\n</style>\n<table border=\"1\" class=\"dataframe\">\n  <thead>\n    <tr style=\"text-align: right;\">\n      <th></th>\n      <th>Unnamed: 0</th>\n      <th>Clothing ID</th>\n      <th>Age</th>\n      <th>Title</th>\n      <th>Review Text</th>\n      <th>Rating</th>\n      <th>Recommended IND</th>\n      <th>Positive Feedback Count</th>\n      <th>Division Name</th>\n      <th>Department Name</th>\n      <th>Class Name</th>\n      <th>GrandTotalProp</th>\n      <th>ContainWord</th>\n      <th>TotalProp</th>\n    </tr>\n  </thead>\n  <tbody>\n    <tr>\n      <th>0</th>\n      <td>0</td>\n      <td>767</td>\n      <td>33</td>\n      <td>NaN</td>\n      <td>Absolutely wonderful - silky and sexy and comf...</td>\n      <td>4</td>\n      <td>1</td>\n      <td>0</td>\n      <td>Initmates</td>\n      <td>Intimate</td>\n      <td>Intimates</td>\n      <td>0.013793</td>\n      <td>False</td>\n      <td>0.022659</td>\n    </tr>\n    <tr>\n      <th>1</th>\n      <td>1</td>\n      <td>1080</td>\n      <td>34</td>\n      <td>NaN</td>\n      <td>Love this dress!  it's sooo pretty.  i happene...</td>\n      <td>5</td>\n      <td>1</td>\n      <td>4</td>\n      <td>General</td>\n      <td>Dresses</td>\n      <td>Dresses</td>\n      <td>0.172093</td>\n      <td>False</td>\n      <td>0.272147</td>\n    </tr>\n    <tr>\n      <th>2</th>\n      <td>2</td>\n      <td>1077</td>\n      <td>60</td>\n      <td>Some major design flaws</td>\n      <td>I had such high hopes for this dress and reall...</td>\n      <td>3</td>\n      <td>0</td>\n      <td>0</td>\n      <td>General</td>\n      <td>Dresses</td>\n      <td>Dresses</td>\n      <td>0.178479</td>\n      <td>False</td>\n      <td>0.252226</td>\n    </tr>\n    <tr>\n      <th>3</th>\n      <td>3</td>\n      <td>1049</td>\n      <td>50</td>\n      <td>My favorite buy!</td>\n      <td>I love, love, love this jumpsuit. it's fun, fl...</td>\n      <td>5</td>\n      <td>1</td>\n      <td>0</td>\n      <td>General Petite</td>\n      <td>Bottoms</td>\n      <td>Pants</td>\n      <td>0.090387</td>\n      <td>True</td>\n      <td>0.107672</td>\n    </tr>\n    <tr>\n      <th>4</th>\n      <td>4</td>\n      <td>847</td>\n      <td>47</td>\n      <td>Flattering shirt</td>\n      <td>This shirt is very flattering to all due to th...</td>\n      <td>5</td>\n      <td>1</td>\n      <td>6</td>\n      <td>General</td>\n      <td>Tops</td>\n      <td>Blouses</td>\n      <td>0.098637</td>\n      <td>True</td>\n      <td>0.105174</td>\n    </tr>\n  </tbody>\n</table>\n</div>"
          },
          "metadata": {}
        }
      ]
    },
    {
      "metadata": {
        "trusted": true,
        "_uuid": "6d847f480709c3f4f3ea56cf52bf3a3cd3f7825b"
      },
      "cell_type": "code",
      "source": "#'compound', 'neg', 'neu', 'pos' score by vader_analyzer\nvader_analyzer = SentimentIntensityAnalyzer()\ntry:\n    df = df.join(pd.DataFrame([vader_analyzer.polarity_scores(str(txt)) for txt in df[\"Review Text\"]  ]))\nexcept Exception as e:         \n    print(txt)\n    raise\n    \ndf.head()    ",
      "execution_count": 125,
      "outputs": [
        {
          "output_type": "execute_result",
          "execution_count": 125,
          "data": {
            "text/plain": "   Unnamed: 0  Clothing ID  Age  ...      neg    neu    pos\n0           0          767   33  ...    0.000  0.272  0.728\n1           1         1080   34  ...    0.000  0.664  0.336\n2           2         1077   60  ...    0.027  0.792  0.181\n3           3         1049   50  ...    0.226  0.340  0.434\n4           4          847   47  ...    0.000  0.700  0.300\n\n[5 rows x 18 columns]",
            "text/html": "<div>\n<style scoped>\n    .dataframe tbody tr th:only-of-type {\n        vertical-align: middle;\n    }\n\n    .dataframe tbody tr th {\n        vertical-align: top;\n    }\n\n    .dataframe thead th {\n        text-align: right;\n    }\n</style>\n<table border=\"1\" class=\"dataframe\">\n  <thead>\n    <tr style=\"text-align: right;\">\n      <th></th>\n      <th>Unnamed: 0</th>\n      <th>Clothing ID</th>\n      <th>Age</th>\n      <th>Title</th>\n      <th>Review Text</th>\n      <th>Rating</th>\n      <th>Recommended IND</th>\n      <th>Positive Feedback Count</th>\n      <th>Division Name</th>\n      <th>Department Name</th>\n      <th>Class Name</th>\n      <th>GrandTotalProp</th>\n      <th>ContainWord</th>\n      <th>TotalProp</th>\n      <th>compound</th>\n      <th>neg</th>\n      <th>neu</th>\n      <th>pos</th>\n    </tr>\n  </thead>\n  <tbody>\n    <tr>\n      <th>0</th>\n      <td>0</td>\n      <td>767</td>\n      <td>33</td>\n      <td>NaN</td>\n      <td>Absolutely wonderful - silky and sexy and comf...</td>\n      <td>4</td>\n      <td>1</td>\n      <td>0</td>\n      <td>Initmates</td>\n      <td>Intimate</td>\n      <td>Intimates</td>\n      <td>0.013793</td>\n      <td>False</td>\n      <td>0.022659</td>\n      <td>0.8932</td>\n      <td>0.000</td>\n      <td>0.272</td>\n      <td>0.728</td>\n    </tr>\n    <tr>\n      <th>1</th>\n      <td>1</td>\n      <td>1080</td>\n      <td>34</td>\n      <td>NaN</td>\n      <td>Love this dress!  it's sooo pretty.  i happene...</td>\n      <td>5</td>\n      <td>1</td>\n      <td>4</td>\n      <td>General</td>\n      <td>Dresses</td>\n      <td>Dresses</td>\n      <td>0.172093</td>\n      <td>False</td>\n      <td>0.272147</td>\n      <td>0.9729</td>\n      <td>0.000</td>\n      <td>0.664</td>\n      <td>0.336</td>\n    </tr>\n    <tr>\n      <th>2</th>\n      <td>2</td>\n      <td>1077</td>\n      <td>60</td>\n      <td>Some major design flaws</td>\n      <td>I had such high hopes for this dress and reall...</td>\n      <td>3</td>\n      <td>0</td>\n      <td>0</td>\n      <td>General</td>\n      <td>Dresses</td>\n      <td>Dresses</td>\n      <td>0.178479</td>\n      <td>False</td>\n      <td>0.252226</td>\n      <td>0.9427</td>\n      <td>0.027</td>\n      <td>0.792</td>\n      <td>0.181</td>\n    </tr>\n    <tr>\n      <th>3</th>\n      <td>3</td>\n      <td>1049</td>\n      <td>50</td>\n      <td>My favorite buy!</td>\n      <td>I love, love, love this jumpsuit. it's fun, fl...</td>\n      <td>5</td>\n      <td>1</td>\n      <td>0</td>\n      <td>General Petite</td>\n      <td>Bottoms</td>\n      <td>Pants</td>\n      <td>0.090387</td>\n      <td>True</td>\n      <td>0.107672</td>\n      <td>0.5727</td>\n      <td>0.226</td>\n      <td>0.340</td>\n      <td>0.434</td>\n    </tr>\n    <tr>\n      <th>4</th>\n      <td>4</td>\n      <td>847</td>\n      <td>47</td>\n      <td>Flattering shirt</td>\n      <td>This shirt is very flattering to all due to th...</td>\n      <td>5</td>\n      <td>1</td>\n      <td>6</td>\n      <td>General</td>\n      <td>Tops</td>\n      <td>Blouses</td>\n      <td>0.098637</td>\n      <td>True</td>\n      <td>0.105174</td>\n      <td>0.9291</td>\n      <td>0.000</td>\n      <td>0.700</td>\n      <td>0.300</td>\n    </tr>\n  </tbody>\n</table>\n</div>"
          },
          "metadata": {}
        }
      ]
    },
    {
      "metadata": {
        "trusted": true,
        "_uuid": "9737f967d9d04ada6f6ea7b29b7d2c1cc60c49ce"
      },
      "cell_type": "code",
      "source": "#Newly Generated Features  \ndf[['GrandTotalProp','TotalProp','compound', 'neg', 'neu', 'pos']].head()",
      "execution_count": 126,
      "outputs": [
        {
          "output_type": "execute_result",
          "execution_count": 126,
          "data": {
            "text/plain": "   GrandTotalProp  TotalProp  compound    neg    neu    pos\n0        0.013793   0.022659    0.8932  0.000  0.272  0.728\n1        0.172093   0.272147    0.9729  0.000  0.664  0.336\n2        0.178479   0.252226    0.9427  0.027  0.792  0.181\n3        0.090387   0.107672    0.5727  0.226  0.340  0.434\n4        0.098637   0.105174    0.9291  0.000  0.700  0.300",
            "text/html": "<div>\n<style scoped>\n    .dataframe tbody tr th:only-of-type {\n        vertical-align: middle;\n    }\n\n    .dataframe tbody tr th {\n        vertical-align: top;\n    }\n\n    .dataframe thead th {\n        text-align: right;\n    }\n</style>\n<table border=\"1\" class=\"dataframe\">\n  <thead>\n    <tr style=\"text-align: right;\">\n      <th></th>\n      <th>GrandTotalProp</th>\n      <th>TotalProp</th>\n      <th>compound</th>\n      <th>neg</th>\n      <th>neu</th>\n      <th>pos</th>\n    </tr>\n  </thead>\n  <tbody>\n    <tr>\n      <th>0</th>\n      <td>0.013793</td>\n      <td>0.022659</td>\n      <td>0.8932</td>\n      <td>0.000</td>\n      <td>0.272</td>\n      <td>0.728</td>\n    </tr>\n    <tr>\n      <th>1</th>\n      <td>0.172093</td>\n      <td>0.272147</td>\n      <td>0.9729</td>\n      <td>0.000</td>\n      <td>0.664</td>\n      <td>0.336</td>\n    </tr>\n    <tr>\n      <th>2</th>\n      <td>0.178479</td>\n      <td>0.252226</td>\n      <td>0.9427</td>\n      <td>0.027</td>\n      <td>0.792</td>\n      <td>0.181</td>\n    </tr>\n    <tr>\n      <th>3</th>\n      <td>0.090387</td>\n      <td>0.107672</td>\n      <td>0.5727</td>\n      <td>0.226</td>\n      <td>0.340</td>\n      <td>0.434</td>\n    </tr>\n    <tr>\n      <th>4</th>\n      <td>0.098637</td>\n      <td>0.105174</td>\n      <td>0.9291</td>\n      <td>0.000</td>\n      <td>0.700</td>\n      <td>0.300</td>\n    </tr>\n  </tbody>\n</table>\n</div>"
          },
          "metadata": {}
        }
      ]
    }
  ],
  "metadata": {
    "kernelspec": {
      "display_name": "Python 3",
      "language": "python",
      "name": "python3"
    },
    "language_info": {
      "name": "python",
      "version": "3.6.6",
      "mimetype": "text/x-python",
      "codemirror_mode": {
        "name": "ipython",
        "version": 3
      },
      "pygments_lexer": "ipython3",
      "nbconvert_exporter": "python",
      "file_extension": ".py"
    }
  },
  "nbformat": 4,
  "nbformat_minor": 1
}